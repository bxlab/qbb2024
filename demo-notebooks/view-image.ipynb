{
 "cells": [
  {
   "cell_type": "markdown",
   "id": "5c1c43a5-268c-4969-92b7-785f51631c23",
   "metadata": {},
   "source": [
    "# Load packages"
   ]
  },
  {
   "cell_type": "code",
   "execution_count": 3,
   "id": "3934cc76-3095-4ec1-b257-49d7ea0ffa91",
   "metadata": {},
   "outputs": [],
   "source": [
    "import imageio.v2 as imageio\n",
    "import matplotlib.pyplot as plt"
   ]
  },
  {
   "cell_type": "markdown",
   "id": "97d343ff-58fa-47b2-abfb-9556b37038d5",
   "metadata": {},
   "source": [
    "# Load image"
   ]
  },
  {
   "cell_type": "code",
   "execution_count": 4,
   "id": "f848ea5e-962c-4180-8a77-5e6df2a89192",
   "metadata": {},
   "outputs": [],
   "source": [
    "im = imageio.imread( \"921_B9_1_red.png\" )"
   ]
  },
  {
   "cell_type": "markdown",
   "id": "f59343ca-8fcf-49a3-8342-ca89f7263ef1",
   "metadata": {},
   "source": [
    "# Plot image"
   ]
  },
  {
   "cell_type": "code",
   "execution_count": null,
   "id": "a9b3d555-6e90-4739-a142-ce691818ee3f",
   "metadata": {},
   "outputs": [],
   "source": [
    "fig, ax = plt.subplots()\n",
    "ax.imshow(im)"
   ]
  }
 ],
 "metadata": {
  "kernelspec": {
   "display_name": "Python 3 (ipykernel)",
   "language": "python",
   "name": "python3"
  },
  "language_info": {
   "codemirror_mode": {
    "name": "ipython",
    "version": 3
   },
   "file_extension": ".py",
   "mimetype": "text/x-python",
   "name": "python",
   "nbconvert_exporter": "python",
   "pygments_lexer": "ipython3",
   "version": "3.13.0"
  }
 },
 "nbformat": 4,
 "nbformat_minor": 5
}
