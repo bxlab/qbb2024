{
 "cells": [
  {
   "cell_type": "markdown",
   "id": "0befdfc6-b73a-4bc7-bbed-9897a798382d",
   "metadata": {},
   "source": [
    "# Hello, PyTorch! -- MNIST Handwritten Digits\n",
    "\n",
    "- https://en.wikipedia.org/wiki/MNIST_database"
   ]
  },
  {
   "cell_type": "markdown",
   "id": "40e7b4e1-b6f5-4e80-b84f-adf5c540a7fe",
   "metadata": {},
   "source": [
    "# Load Datasets"
   ]
  },
  {
   "cell_type": "code",
   "execution_count": null,
   "id": "37f401f9-93ba-4b81-bde0-c36ab930ce9f",
   "metadata": {},
   "outputs": [],
   "source": [
    "import torch\n",
    "from torchvision import datasets, transforms"
   ]
  },
  {
   "cell_type": "code",
   "execution_count": null,
   "id": "357e30e1-addf-4926-8946-60ca064dd378",
   "metadata": {},
   "outputs": [],
   "source": [
    "x = datasets.MNIST('data')\n",
    "x[0]"
   ]
  },
  {
   "cell_type": "code",
   "execution_count": null,
   "id": "480b4ed9-53a2-497f-a091-34d2b5029efc",
   "metadata": {},
   "outputs": [],
   "source": [
    "transform=transforms.Compose([\n",
    "    transforms.ToTensor(),\n",
    "    transforms.Normalize((0.1307,), (0.3081,))\n",
    "    ])"
   ]
  },
  {
   "cell_type": "code",
   "execution_count": null,
   "id": "e0e7703b-bafa-4cbd-ab76-e7912f238a71",
   "metadata": {},
   "outputs": [],
   "source": [
    "dataset1 = datasets.MNIST('data', train=True, download=True, transform=transform)\n",
    "train_loader = torch.utils.data.DataLoader(dataset1, batch_size=64)\n",
    "\n",
    "dataset2 = datasets.MNIST('data', train=False, download=True, transform=transform)\n",
    "test_loader = torch.utils.data.DataLoader(dataset2, batch_size=1000)"
   ]
  },
  {
   "cell_type": "code",
   "execution_count": null,
   "id": "59710e75-9a82-4e8a-b69a-41476ee2d695",
   "metadata": {},
   "outputs": [],
   "source": [
    "i, x = next(enumerate(train_loader))\n",
    "x[0].shape"
   ]
  },
  {
   "cell_type": "markdown",
   "id": "a56db5ce-0865-4bfe-889c-3ddb048c8f0f",
   "metadata": {},
   "source": [
    "# View Image"
   ]
  },
  {
   "cell_type": "code",
   "execution_count": null,
   "id": "816b99ae-9a93-41b9-bbdb-fb29315882a2",
   "metadata": {},
   "outputs": [],
   "source": [
    "import numpy as np\n",
    "import scipy\n",
    "import matplotlib.pyplot as plt"
   ]
  },
  {
   "cell_type": "code",
   "execution_count": null,
   "id": "f6fac72d-8f4c-4b8e-b0a2-f0b3f5fde55a",
   "metadata": {},
   "outputs": [],
   "source": [
    "i, x = next(enumerate(train_loader))\n",
    "x2 = np.squeeze(x[0][0])\n",
    "plt.imshow(x2, cmap='gray')"
   ]
  },
  {
   "cell_type": "code",
   "execution_count": null,
   "id": "913ac94e-1e4c-4b47-ba22-02c89c34cf3f",
   "metadata": {},
   "outputs": [],
   "source": [
    "kernel = np.array([[1, 0, -1], [2, 0, -2], [1, 0, -1]])\n",
    "y = scipy.ndimage.convolve(x2, kernel)\n",
    "\n",
    "fig, axes = plt.subplots(1,3)\n",
    "axes[0].imshow(x2)\n",
    "axes[1].imshow(kernel)\n",
    "axes[2].imshow(y)"
   ]
  },
  {
   "cell_type": "markdown",
   "id": "b2a9a9b8-5987-4e58-9ca6-97baeab779ae",
   "metadata": {},
   "source": [
    "# Create Network"
   ]
  },
  {
   "cell_type": "code",
   "execution_count": null,
   "id": "29ceed62-51fb-46d4-a1e6-e09070a2e1d3",
   "metadata": {},
   "outputs": [],
   "source": [
    "import torch.nn as nn\n",
    "import torch.nn.functional as F\n",
    "import torch.optim as optim\n",
    "from torchinfo import summary"
   ]
  },
  {
   "cell_type": "code",
   "execution_count": null,
   "id": "824bebde-c13f-4182-83fc-812306876c30",
   "metadata": {},
   "outputs": [],
   "source": [
    "class Net(nn.Module):\n",
    "    def __init__(self):\n",
    "        super(Net, self).__init__()\n",
    "        self.conv1 = nn.Conv2d(1, 10, kernel_size=5)\n",
    "        self.conv2 = nn.Conv2d(10, 20, kernel_size=5)\n",
    "        self.conv2_drop = nn.Dropout2d()\n",
    "        self.fc1 = nn.Linear(320, 50)\n",
    "        self.fc2 = nn.Linear(50, 10)\n",
    "\n",
    "    def forward(self, x):\n",
    "        x = F.relu(F.max_pool2d(self.conv1(x), 2))\n",
    "        x = F.relu(F.max_pool2d(self.conv2_drop(self.conv2(x)), 2))\n",
    "        x = x.view(-1, 320)\n",
    "        x = F.relu(self.fc1(x))\n",
    "        x = F.dropout(x, training=self.training)\n",
    "        x = self.fc2(x)\n",
    "        return F.log_softmax(x)"
   ]
  },
  {
   "cell_type": "code",
   "execution_count": null,
   "id": "fc192ed1-478c-4f49-afea-7ab978c93961",
   "metadata": {},
   "outputs": [],
   "source": [
    "network = Net()\n",
    "optimizer = optim.SGD(network.parameters(), lr=0.01, momentum=0.5)\n",
    "summary(network, input_size=(1,28,28))"
   ]
  },
  {
   "cell_type": "markdown",
   "id": "3d0a78c4-3dbd-450d-b433-2702d56a6b25",
   "metadata": {},
   "source": [
    "# Visualize Weights"
   ]
  },
  {
   "cell_type": "code",
   "execution_count": null,
   "id": "44ce2ccf-b96a-4562-88dd-a36abe6e78c1",
   "metadata": {},
   "outputs": [],
   "source": [
    "def visualize():\n",
    "    i, x = next(enumerate(test_loader))\n",
    "    x2 = np.squeeze(x[0][0])\n",
    "    weights = network.conv1.weight.data\n",
    "    \n",
    "    fig, axes = plt.subplots(10,2)\n",
    "    for i in range(10):\n",
    "        weights_np = np.squeeze(weights.numpy()[i,0,:,:])\n",
    "        axes[i,0].imshow(weights_np)\n",
    "        axes[i,1].imshow(scipy.ndimage.convolve(x2, weights_np))"
   ]
  },
  {
   "cell_type": "code",
   "execution_count": null,
   "id": "a2a7d4bf-c289-4ce9-bae6-b5e9e027dab8",
   "metadata": {},
   "outputs": [],
   "source": [
    "visualize()"
   ]
  },
  {
   "cell_type": "markdown",
   "id": "00e8d17d-9790-48fb-ab28-8553362cb2cc",
   "metadata": {},
   "source": [
    "# Predict Using Network"
   ]
  },
  {
   "cell_type": "code",
   "execution_count": null,
   "id": "7a71b539-af89-4b00-abd5-81355c5056b8",
   "metadata": {},
   "outputs": [],
   "source": [
    "i, x = next(enumerate(train_loader))\n",
    "x[1][:5]"
   ]
  },
  {
   "cell_type": "code",
   "execution_count": null,
   "id": "19099acc-17ad-4fed-a8c5-94dd5f23ed48",
   "metadata": {},
   "outputs": [],
   "source": [
    "y = network(x[0])\n",
    "pred = y.data.max(1)[1]\n",
    "pred[:5]"
   ]
  },
  {
   "cell_type": "markdown",
   "id": "d20a976a-42a9-42ae-95d7-bd764a946b19",
   "metadata": {},
   "source": [
    "# First Test and Train"
   ]
  },
  {
   "cell_type": "code",
   "execution_count": null,
   "id": "2605c912-1329-48e8-8d36-82d83738f58b",
   "metadata": {},
   "outputs": [],
   "source": [
    "def test():\n",
    "  network.eval()\n",
    "  correct = 0\n",
    "  with torch.no_grad():\n",
    "    for data, target in test_loader:\n",
    "      output = network(data)\n",
    "      pred = output.data.max(1, keepdim=True)[1]\n",
    "      correct += pred.eq(target.data.view_as(pred)).sum()\n",
    "  print('Test accuracy: {:.0f}%\\n'.format(100. * correct / len(test_loader.dataset)))"
   ]
  },
  {
   "cell_type": "code",
   "execution_count": null,
   "id": "044b36f9-bfce-4cdf-b024-ce80f568470a",
   "metadata": {},
   "outputs": [],
   "source": [
    "test()"
   ]
  },
  {
   "cell_type": "code",
   "execution_count": null,
   "id": "5790a2f7-1a11-43d6-83ba-39392dc2747d",
   "metadata": {},
   "outputs": [],
   "source": [
    "optimizer = optim.SGD(network.parameters(), lr=0.01, momentum=0.5)\n",
    "def train():\n",
    "  network.train()\n",
    "  for batch_idx, (data, target) in enumerate(train_loader):\n",
    "    optimizer.zero_grad()\n",
    "    output = network(data)\n",
    "    loss = F.nll_loss(output, target)\n",
    "    loss.backward()\n",
    "    optimizer.step()\n",
    "    if batch_idx % 100 == 0:\n",
    "      print('Train loss: {:.6f}'.format(loss.item()))"
   ]
  },
  {
   "cell_type": "code",
   "execution_count": null,
   "id": "d9d2ca7c-d974-4d7b-a25e-09882ff442b7",
   "metadata": {},
   "outputs": [],
   "source": [
    "train()"
   ]
  },
  {
   "cell_type": "markdown",
   "id": "c61319bd-8132-4325-8619-6bc176bb8b74",
   "metadata": {},
   "source": [
    "# Train Network"
   ]
  },
  {
   "cell_type": "code",
   "execution_count": null,
   "id": "3188e884-4e5c-49cc-88d2-75b89724c57c",
   "metadata": {},
   "outputs": [],
   "source": [
    "network = Net()\n",
    "optimizer = optim.SGD(network.parameters(), lr=0.01, momentum=0.5)\n",
    "for epoch in range(5):\n",
    "    train()\n",
    "    test()"
   ]
  },
  {
   "cell_type": "markdown",
   "id": "99586011-99ab-400d-8192-610c329918ae",
   "metadata": {},
   "source": [
    "# Inspect Network"
   ]
  },
  {
   "cell_type": "code",
   "execution_count": null,
   "id": "dc3e0d30-d98d-4928-aaba-ea3aec986ff3",
   "metadata": {},
   "outputs": [],
   "source": [
    "visualize()"
   ]
  },
  {
   "cell_type": "code",
   "execution_count": null,
   "id": "d7a26236-3bda-428f-a95d-46d080acf90b",
   "metadata": {},
   "outputs": [],
   "source": [
    "i, x = next(enumerate(train_loader))\n",
    "x[1][:5]"
   ]
  },
  {
   "cell_type": "code",
   "execution_count": null,
   "id": "cc9cbf03-b8a7-4217-88b2-d43b1ea8639e",
   "metadata": {},
   "outputs": [],
   "source": [
    "y = network(x[0])\n",
    "pred = y.data.max(1)[1]\n",
    "pred[:5]"
   ]
  },
  {
   "cell_type": "markdown",
   "id": "91ccf0af-45b9-44f5-82bb-8b2428a9fb35",
   "metadata": {},
   "source": [
    "# How Much Data?\n",
    "\n",
    "- What is the accuracy using 60,000 images? 30,000? 6,000? 3,000? 600?\n",
    "- How do the weights looks different when trained with 60,000 vs 600?"
   ]
  },
  {
   "cell_type": "code",
   "execution_count": null,
   "id": "b0fc9e1b-2338-41fa-a471-1c5860de70f5",
   "metadata": {},
   "outputs": [],
   "source": [
    "dataset1 = datasets.MNIST('data', train=True, download=True, transform=transform)\n",
    "dataset1 = torch.utils.data.Subset(dataset1, range(30000))\n",
    "train_loader = torch.utils.data.DataLoader(dataset1, batch_size=64)"
   ]
  },
  {
   "cell_type": "code",
   "execution_count": null,
   "id": "1bceb5af-336f-491b-9e69-ebc7a0b3ac99",
   "metadata": {},
   "outputs": [],
   "source": [
    "# Create a new network and optimizer each time you try a new training set\n",
    "network = Net()\n",
    "optimizer = optim.SGD(network.parameters(), lr=0.01, momentum=0.5)\n",
    "for epoch in range(5):\n",
    "    train()\n",
    "    test()"
   ]
  },
  {
   "cell_type": "code",
   "execution_count": null,
   "id": "8d03594c-4570-43d2-a282-6be8e9e0432b",
   "metadata": {},
   "outputs": [],
   "source": [
    "visualize()"
   ]
  },
  {
   "cell_type": "code",
   "execution_count": null,
   "id": "460f7426-228c-4657-8bb5-074dda214157",
   "metadata": {},
   "outputs": [],
   "source": []
  },
  {
   "cell_type": "code",
   "execution_count": null,
   "id": "ebf346bb-e504-4148-8d87-0a01d90e3ef0",
   "metadata": {},
   "outputs": [],
   "source": []
  },
  {
   "cell_type": "code",
   "execution_count": null,
   "id": "a8b91570-a58f-4143-8fc4-ab6edf20ff0c",
   "metadata": {},
   "outputs": [],
   "source": []
  }
 ],
 "metadata": {
  "kernelspec": {
   "display_name": "Python 3 (ipykernel)",
   "language": "python",
   "name": "python3"
  },
  "language_info": {
   "codemirror_mode": {
    "name": "ipython",
    "version": 3
   },
   "file_extension": ".py",
   "mimetype": "text/x-python",
   "name": "python",
   "nbconvert_exporter": "python",
   "pygments_lexer": "ipython3",
   "version": "3.13.0"
  }
 },
 "nbformat": 4,
 "nbformat_minor": 5
}
