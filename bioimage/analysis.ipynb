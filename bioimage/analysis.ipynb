{
 "cells": [
  {
   "cell_type": "markdown",
   "id": "2671f56e-a496-4ca8-b3e8-f99904f0ac47",
   "metadata": {},
   "source": [
    "# Kaggle Human Protein Atlas - Single Cell Classification Challenge\n",
    "\n",
    "- https://www.kaggle.com/c/hpa-single-cell-image-classification\n",
    "- https://github.com/bioimage-io/use-cases/tree/main/case3-devtools"
   ]
  },
  {
   "cell_type": "markdown",
   "id": "02ca5da1-e16d-4824-8fc4-2b8dd6fe825f",
   "metadata": {},
   "source": [
    "# 1. Setup"
   ]
  },
  {
   "cell_type": "markdown",
   "id": "d854ce6f-c6dc-43b6-861c-6edcdf7b7d77",
   "metadata": {},
   "source": [
    "### 1a. Load BioImage Models\n",
    "\n",
    "- https://doi.org/10.5281/zenodo.6200999\n",
    "- https://doi.org/10.5281/zenodo.6200635"
   ]
  },
  {
   "cell_type": "code",
   "execution_count": null,
   "id": "ea04b0f7-8f9a-4738-8cbb-40804f3c80ce",
   "metadata": {},
   "outputs": [],
   "source": [
    "import bioimageio.core\n",
    "\n",
    "bioimageio.core.export_resource_package(\"10.5281/zenodo.6200999\", output_path=\"model-nuc.zip\")\n",
    "nuc_model = bioimageio.core.load_resource_description(\"model-nuc.zip\")\n",
    "\n",
    "bioimageio.core.export_resource_package(\"10.5281/zenodo.6200635\", output_path=\"model-cell.zip\")\n",
    "cell_model = bioimageio.core.load_resource_description(\"model-cell.zip\")"
   ]
  },
  {
   "cell_type": "markdown",
   "id": "fa83a532-3811-4a3e-9dbe-be14d7c31a68",
   "metadata": {},
   "source": [
    "### 1b. Create Prediction Pipelines"
   ]
  },
  {
   "cell_type": "code",
   "execution_count": null,
   "id": "188a4594-966e-4f57-8525-19374dfb0d03",
   "metadata": {},
   "outputs": [],
   "source": [
    "from bioimageio.core.prediction import predict_with_padding\n",
    "\n",
    "from xarray import DataArray\n",
    "from skimage.measure import label\n",
    "from skimage.segmentation import watershed\n",
    "\n",
    "pp_nucleus = bioimageio.core.create_prediction_pipeline(bioimageio_model=nuc_model)\n",
    "pp_cell = bioimageio.core.create_prediction_pipeline(bioimageio_model=cell_model)"
   ]
  },
  {
   "cell_type": "markdown",
   "id": "3daa7572-17bd-4394-a158-2f6e79d79ed2",
   "metadata": {},
   "source": [
    "### 1c. Prepare Image Dataset"
   ]
  },
  {
   "cell_type": "code",
   "execution_count": null,
   "id": "da00f262-6c9a-4bd8-8128-433132393e1f",
   "metadata": {},
   "outputs": [],
   "source": [
    "# red microtubule, blue nuclei, green protein, yellow endoplasmic reticulum\n",
    "channels = [\"red\", \"blue\", \"green\"]\n",
    "scale_factor = 0.25"
   ]
  },
  {
   "cell_type": "code",
   "execution_count": null,
   "id": "c2b17baf-7d97-4a21-b86f-c2c5fddea499",
   "metadata": {},
   "outputs": [],
   "source": [
    "hpa_cyto = \"921_B9_1_\"\n",
    "hpa_endo = \"1876_A7_32_\"\n",
    "hpa_mito = \"946_E10_1_\"\n",
    "hpa_nucl = \"962_F1_1_\""
   ]
  },
  {
   "cell_type": "code",
   "execution_count": null,
   "id": "1dcf640d-cf9c-4369-a865-7828fe0bd57e",
   "metadata": {},
   "outputs": [],
   "source": [
    "image_paths = dict()\n",
    "for hpa in [hpa_cyto, hpa_endo, hpa_mito, hpa_nucl]:\n",
    "    filepaths = []\n",
    "    for channel in channels:\n",
    "        filepaths.append(\"images/\" + hpa + channel + \".png\")\n",
    "    image_paths[hpa] = filepaths"
   ]
  },
  {
   "cell_type": "code",
   "execution_count": null,
   "id": "11c2ac43-1376-4453-b867-72b0310755ab",
   "metadata": {},
   "outputs": [],
   "source": [
    "import numpy as np\n",
    "import matplotlib.pyplot as plt\n",
    "import imageio.v2 as imageio\n",
    "\n",
    "from skimage.transform import rescale"
   ]
  },
  {
   "cell_type": "code",
   "execution_count": null,
   "id": "49842f34-3c5b-49a9-91d4-16803a96ce90",
   "metadata": {},
   "outputs": [],
   "source": [
    "def load_image(image_paths, channels, scale_factor):\n",
    "    image = []\n",
    "    for chan in channels:\n",
    "        path = [imp for imp in image_paths if chan in imp]\n",
    "        path = path[0]\n",
    "        im = imageio.imread(path)\n",
    "        im = rescale(im, scale_factor)\n",
    "        image.append(im[None])\n",
    "    image = np.concatenate(image, axis=0)\n",
    "    return image"
   ]
  },
  {
   "cell_type": "markdown",
   "id": "f49848a5-b9b6-4b9a-b616-a3aea783377a",
   "metadata": {},
   "source": [
    "# 2. Analysis"
   ]
  },
  {
   "cell_type": "markdown",
   "id": "15db4213-3b12-48e9-ab89-78ca12f0bc2e",
   "metadata": {},
   "source": [
    "### 2a. Select Dataset"
   ]
  },
  {
   "cell_type": "code",
   "execution_count": null,
   "id": "e64639f2-f95c-4713-a459-f85842fe4a56",
   "metadata": {},
   "outputs": [],
   "source": [
    "hpa = hpa_cyto"
   ]
  },
  {
   "cell_type": "markdown",
   "id": "627a262c-3828-4571-bc75-9c9ae5b54cff",
   "metadata": {},
   "source": [
    "### 2b. Load Images"
   ]
  },
  {
   "cell_type": "code",
   "execution_count": null,
   "id": "d6b3cae7-7673-408a-8495-3871133796f5",
   "metadata": {},
   "outputs": [],
   "source": [
    "image = load_image(image_paths[hpa], channels, scale_factor)\n",
    "\n",
    "fig, axes = plt.subplots(1,len(channels))\n",
    "for i in range(len(channels)):\n",
    "    axes[i].imshow(image[i,:,:], cmap='gray')"
   ]
  },
  {
   "cell_type": "markdown",
   "id": "0bcfa666-7d1d-4109-aab9-544ecb3503f5",
   "metadata": {},
   "source": [
    "### 2c.Identify Nuclei"
   ]
  },
  {
   "cell_type": "code",
   "execution_count": null,
   "id": "9899671d-6a24-40ba-8256-ef73b901b771",
   "metadata": {},
   "outputs": [],
   "source": [
    "axes = cell_model.inputs[0].axes\n",
    "input_nucleus = DataArray(\n",
    "    np.concatenate([image[1:2], image[1:2], image[1:2]], axis=0)[None],\n",
    "    dims=axes\n",
    ")\n",
    "padding = {\"x\": 32, \"y\": 32}\n",
    "nuclei_pred = predict_with_padding(pp_nucleus, input_nucleus, padding=padding)[0].values[0]"
   ]
  },
  {
   "cell_type": "code",
   "execution_count": null,
   "id": "051bb332-5924-4258-84b3-aa975a8f0d66",
   "metadata": {},
   "outputs": [],
   "source": [
    "fig, axes = plt.subplots(1,3)\n",
    "for i in range(3):\n",
    "    axes[i].imshow(nuclei_pred[i,:,:], cmap='gray')"
   ]
  },
  {
   "cell_type": "code",
   "execution_count": null,
   "id": "50b6ab66-d0d4-4176-8bd6-16006fd69dad",
   "metadata": {},
   "outputs": [],
   "source": [
    "fg = nuclei_pred[-1]\n",
    "nuclei = label(fg > 0.5)\n",
    "ids, sizes = np.unique(nuclei, return_counts=True)"
   ]
  },
  {
   "cell_type": "code",
   "execution_count": null,
   "id": "eed6ba4b-404c-4b88-88d9-25a5038c56be",
   "metadata": {},
   "outputs": [],
   "source": [
    "filter_ids = ids[sizes < 250]\n",
    "nuclei[np.isin(nuclei, filter_ids)] = 0"
   ]
  },
  {
   "cell_type": "code",
   "execution_count": null,
   "id": "51512b56-f661-4975-bbc5-e3146ee14501",
   "metadata": {},
   "outputs": [],
   "source": [
    "plt.subplots()\n",
    "plt.imshow(nuclei)"
   ]
  },
  {
   "cell_type": "markdown",
   "id": "48c5409f-a2ad-4fc6-ba80-87f7ebedff3e",
   "metadata": {},
   "source": [
    "### 2d. Identify Cells"
   ]
  },
  {
   "cell_type": "code",
   "execution_count": null,
   "id": "fc2b1fc2-bc5d-4e3d-8cbe-5b3df9791035",
   "metadata": {
    "scrolled": true
   },
   "outputs": [],
   "source": [
    "axes = cell_model.inputs[0].axes\n",
    "input_cells = DataArray(image[None], dims=axes)\n",
    "cell_pred = predict_with_padding(pp_cell, input_cells, padding=padding)[0].values[0]"
   ]
  },
  {
   "cell_type": "code",
   "execution_count": null,
   "id": "c283458c-ea57-4d99-9f77-bac795a95977",
   "metadata": {},
   "outputs": [],
   "source": [
    "fix, axes = plt.subplots(1,3)\n",
    "for i in range(3):\n",
    "    axes[i].imshow(cell_pred[i], cmap='gray')"
   ]
  },
  {
   "cell_type": "code",
   "execution_count": null,
   "id": "76ffb8e5-e4a8-4eee-aaed-bdda3ec513b0",
   "metadata": {},
   "outputs": [],
   "source": [
    "fg, bd = cell_pred[2], cell_pred[1]\n",
    "cell_seg = watershed(bd, markers=nuclei, mask=fg > 0.5)\n",
    "\n",
    "plt.subplots()\n",
    "plt.imshow(cell_seg)"
   ]
  },
  {
   "cell_type": "code",
   "execution_count": null,
   "id": "fc16e39a-5a9f-4d45-9c0c-be8205321982",
   "metadata": {},
   "outputs": [],
   "source": [
    "ids, sizes = np.unique(cell_seg, return_counts=True)"
   ]
  },
  {
   "cell_type": "code",
   "execution_count": null,
   "id": "43c490c7-a021-4e06-893d-3935c37ae833",
   "metadata": {},
   "outputs": [],
   "source": [
    "sizes"
   ]
  },
  {
   "cell_type": "markdown",
   "id": "388d32d4-906d-4533-aae0-58ac14200461",
   "metadata": {},
   "source": [
    "# 3. Exercises\n",
    "\n",
    "- Explain the parameters provided to watershed().  What happens when you remove mask?  What happens when you remove markers?\n",
    "- Compare how well segmentation works for cyto, endo, mito, and nucl.  What types of samples work well?  Not as well?"
   ]
  },
  {
   "cell_type": "code",
   "execution_count": null,
   "id": "04303f91-e19a-4575-9fb3-9e308949414e",
   "metadata": {},
   "outputs": [],
   "source": [
    "cell_seg = watershed(bd, markers=nuclei, mask=fg > 0.5)\n",
    "\n",
    "plt.subplots()\n",
    "plt.imshow(cell_seg)"
   ]
  },
  {
   "cell_type": "code",
   "execution_count": null,
   "id": "139afc25-f77f-4d33-9359-8c41e70e7ab8",
   "metadata": {},
   "outputs": [],
   "source": [
    "hpa = hpa_cyto"
   ]
  },
  {
   "cell_type": "code",
   "execution_count": null,
   "id": "659882e7-0ce4-4488-89e0-02c06f6df99d",
   "metadata": {},
   "outputs": [],
   "source": []
  }
 ],
 "metadata": {
  "kernelspec": {
   "display_name": "Python 3 (ipykernel)",
   "language": "python",
   "name": "python3"
  },
  "language_info": {
   "codemirror_mode": {
    "name": "ipython",
    "version": 3
   },
   "file_extension": ".py",
   "mimetype": "text/x-python",
   "name": "python",
   "nbconvert_exporter": "python",
   "pygments_lexer": "ipython3",
   "version": "3.10.15"
  }
 },
 "nbformat": 4,
 "nbformat_minor": 5
}
